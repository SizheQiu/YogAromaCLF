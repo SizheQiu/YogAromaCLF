{
 "cells": [
  {
   "cell_type": "code",
   "execution_count": 2,
   "id": "bf82c755",
   "metadata": {},
   "outputs": [],
   "source": [
    "import numpy as np\n",
    "import pandas as pd\n",
    "from sklearn.preprocessing import StandardScaler\n",
    "import seaborn as sns\n",
    "import matplotlib.pyplot as plt\n",
    "from sklearn.linear_model import ElasticNet\n",
    "from sklearn.linear_model import LogisticRegression\n",
    "from sklearn.linear_model import BayesianRidge\n"
   ]
  },
  {
   "cell_type": "markdown",
   "id": "1f67ee1a",
   "metadata": {},
   "source": [
    "# Load data"
   ]
  },
  {
   "cell_type": "code",
   "execution_count": 3,
   "id": "68208627",
   "metadata": {},
   "outputs": [],
   "source": [
    "df_merged = pd.read_csv('../data/Merged.csv')\n",
    "X = df_merged.iloc[:,1:-1].values\n",
    "X = StandardScaler().fit_transform(X)\n",
    "\n",
    "target_labels={'Fermented':[],'Cheesy':[],'Milky':[],'Fruity':[]}\n",
    "for i in range(len(df_merged.index)):\n",
    "    label = list(df_merged['Label'])[i]\n",
    "    for k in target_labels.keys():\n",
    "        if k == label:\n",
    "            target_labels[k].append(1)\n",
    "        else:\n",
    "            target_labels[k].append(0)          "
   ]
  },
  {
   "cell_type": "code",
   "execution_count": null,
   "id": "45e870ac",
   "metadata": {},
   "outputs": [],
   "source": []
  }
 ],
 "metadata": {
  "kernelspec": {
   "display_name": "Python 3 (ipykernel)",
   "language": "python",
   "name": "python3"
  },
  "language_info": {
   "codemirror_mode": {
    "name": "ipython",
    "version": 3
   },
   "file_extension": ".py",
   "mimetype": "text/x-python",
   "name": "python",
   "nbconvert_exporter": "python",
   "pygments_lexer": "ipython3",
   "version": "3.8.10"
  }
 },
 "nbformat": 4,
 "nbformat_minor": 5
}
