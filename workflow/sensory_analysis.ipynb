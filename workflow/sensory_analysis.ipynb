{
 "cells": [
  {
   "cell_type": "code",
   "execution_count": 15,
   "id": "3b48e3a2",
   "metadata": {},
   "outputs": [],
   "source": [
    "import numpy as np\n",
    "import pandas as pd\n",
    "import plotly.graph_objects as go\n",
    "import plotly.io as pio\n",
    "from sklearn.preprocessing import StandardScaler\n",
    "from sklearn.decomposition import PCA\n",
    "import seaborn as sns\n",
    "import matplotlib.pyplot as plt"
   ]
  },
  {
   "cell_type": "code",
   "execution_count": 2,
   "id": "59fcfa46",
   "metadata": {},
   "outputs": [],
   "source": [
    "data = pd.read_csv('../data/sensory_result.csv')"
   ]
  },
  {
   "cell_type": "code",
   "execution_count": 3,
   "id": "7e6284e3",
   "metadata": {},
   "outputs": [],
   "source": [
    "categories = list(data.columns)[1:-1]\n",
    "aroma_classes = ['fermented', 'cheesy', 'milky', 'fruity']"
   ]
  },
  {
   "cell_type": "code",
   "execution_count": null,
   "id": "ee1c4ce5",
   "metadata": {},
   "outputs": [],
   "source": [
    "# PCA"
   ]
  },
  {
   "cell_type": "code",
   "execution_count": 7,
   "id": "12ceffdf",
   "metadata": {},
   "outputs": [],
   "source": [
    "X = data.iloc[:,1:-1].values"
   ]
  },
  {
   "cell_type": "code",
   "execution_count": 12,
   "id": "34a48959",
   "metadata": {},
   "outputs": [
    {
     "name": "stdout",
     "output_type": "stream",
     "text": [
      "[0.43768384 0.20877261]\n"
     ]
    }
   ],
   "source": [
    "pca_transform = PCA(n_components=2)\n",
    "X_pca = pca_transform.fit_transform(X)\n",
    "print(pca_transform.explained_variance_ratio_)"
   ]
  },
  {
   "cell_type": "code",
   "execution_count": 27,
   "id": "7352c0f7",
   "metadata": {},
   "outputs": [
    {
     "data": {
      "image/png": "[encoded data removed]",
      "text/plain": [
       "<Figure size 396x360 with 1 Axes>"
      ]
     },
     "metadata": {},
     "output_type": "display_data"
    }
   ],
   "source": [
    "X_pca_pd = pd.DataFrame(X_pca, columns=['PC1(43.8%)','PC2(20.9%)'])\n",
    "X_pca_pd['Aroma type'] = [ x[0].upper()+x[1:] for x in list(data['Aroma type'])]\n",
    "\n",
    "sns.set_theme(style=\"darkgrid\")\n",
    "f, ax = plt.subplots(1,1,figsize=(5.5,5))\n",
    "sns.scatterplot(x='PC1(43.8%)', y='PC2(20.9%)',hue=\"Aroma type\",\n",
    "        hue_order=['Fermented', 'Cheesy', 'Milky', 'Fruity'],linewidth=1,data=X_pca_pd, s=50, edgecolor='black', ax=ax)\n",
    "ax.set_title('PCA biplot of sensory evaluation');\n",
    "plt.savefig('../Figures/sensory_pca.svg',format='svg',dpi=150)"
   ]
  },
  {
   "cell_type": "markdown",
   "id": "5707279f",
   "metadata": {},
   "source": [
    "# Radar map"
   ]
  },
  {
   "cell_type": "code",
   "execution_count": 8,
   "id": "c36762d1",
   "metadata": {},
   "outputs": [],
   "source": [
    "fig = go.Figure()\n",
    "temp_data = data[data['Aroma type']=='fermented'].reset_index()\n",
    "L= temp_data[categories].values\n",
    "ub = max(max(x) for x in L)\n",
    "\n",
    "for i in range(len(temp_data.index)):\n",
    "    fig.add_trace(go.Scatterpolar( r= list( temp_data[categories].iloc[i].values ),\n",
    "      theta=categories,\n",
    "      fill='none',\n",
    "      name=list(temp_data['sample'])[i]   ))\n",
    "fig.update_layout( title_text= 'Fermented(n='+str(len(temp_data.index))+')',title_x = 0.5,\n",
    "                  polar=dict( radialaxis=dict(visible=True,range=[0, int(ub)+1])),showlegend=True )\n",
    "pio.write_image(fig, '../Figures/Fermented_radar.svg')"
   ]
  },
  {
   "cell_type": "code",
   "execution_count": 9,
   "id": "7586bb2e",
   "metadata": {},
   "outputs": [],
   "source": [
    "fig = go.Figure()\n",
    "temp_data = data[data['Aroma type']=='cheesy'].reset_index()\n",
    "L= temp_data[categories].values\n",
    "ub = max(max(x) for x in L)\n",
    "\n",
    "for i in range(len(temp_data.index)):\n",
    "    fig.add_trace(go.Scatterpolar( r= list( temp_data[categories].iloc[i].values ),\n",
    "      theta=categories,\n",
    "      fill='none',\n",
    "      name=list(temp_data['sample'])[i]   ))\n",
    "fig.update_layout( title_text= 'Cheesy(n='+str(len(temp_data.index))+')',title_x = 0.5,\n",
    "                  polar=dict( radialaxis=dict(visible=True,range=[0, int(ub)+1])),showlegend=True )\n",
    "pio.write_image(fig, '../Figures/Cheesy_radar.svg')"
   ]
  },
  {
   "cell_type": "code",
   "execution_count": 10,
   "id": "d84556fe",
   "metadata": {},
   "outputs": [],
   "source": [
    "fig = go.Figure()\n",
    "temp_data = data[data['Aroma type']=='milky'].reset_index()\n",
    "L= temp_data[categories].values\n",
    "ub = max(max(x) for x in L)\n",
    "\n",
    "for i in range(len(temp_data.index)):\n",
    "    fig.add_trace(go.Scatterpolar( r= list( temp_data[categories].iloc[i].values ),\n",
    "      theta=categories,\n",
    "      fill='none',\n",
    "      name=list(temp_data['sample'])[i]   ))\n",
    "fig.update_layout( title_text= 'Milky(n='+str(len(temp_data.index))+')',title_x = 0.5,\n",
    "                  polar=dict( radialaxis=dict(visible=True,range=[0, int(ub)+1])),showlegend=True )\n",
    "pio.write_image(fig, '../Figures/Milky_radar.svg')  "
   ]
  },
  {
   "cell_type": "code",
   "execution_count": 11,
   "id": "9b0eb499",
   "metadata": {},
   "outputs": [],
   "source": [
    "fig = go.Figure()\n",
    "temp_data = data[data['Aroma type']=='fruity'].reset_index()\n",
    "L= temp_data[categories].values\n",
    "ub = max(max(x) for x in L)\n",
    "\n",
    "for i in range(len(temp_data.index)):\n",
    "    fig.add_trace(go.Scatterpolar( r= list( temp_data[categories].iloc[i].values ),\n",
    "      theta=categories,\n",
    "      fill='none',\n",
    "      name=list(temp_data['sample'])[i]   ))\n",
    "fig.update_layout( title_text= 'Fruity(n='+str(len(temp_data.index))+')',title_x = 0.5,\n",
    "                  polar=dict( radialaxis=dict(visible=True,range=[0, int(ub)+1])),showlegend=True )\n",
    "pio.write_image(fig, '../Figures/Fruity_radar.svg')"
   ]
  },
  {
   "cell_type": "code",
   "execution_count": null,
   "id": "dbc9b9f6",
   "metadata": {},
   "outputs": [],
   "source": []
  }
 ],
 "metadata": {
  "kernelspec": {
   "display_name": "Python 3 (ipykernel)",
   "language": "python",
   "name": "python3"
  },
  "language_info": {
   "codemirror_mode": {
    "name": "ipython",
    "version": 3
   },
   "file_extension": ".py",
   "mimetype": "text/x-python",
   "name": "python",
   "nbconvert_exporter": "python",
   "pygments_lexer": "ipython3",
   "version": "3.8.10"
  }
 },
 "nbformat": 4,
 "nbformat_minor": 5
}
