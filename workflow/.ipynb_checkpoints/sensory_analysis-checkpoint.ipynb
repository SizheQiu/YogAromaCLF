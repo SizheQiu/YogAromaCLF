{
 "cells": [
  {
   "cell_type": "code",
   "execution_count": 5,
   "id": "3b48e3a2",
   "metadata": {},
   "outputs": [],
   "source": [
    "import numpy as np\n",
    "import pandas as pd\n",
    "import plotly.graph_objects as go\n",
    "import plotly.io as pio"
   ]
  },
  {
   "cell_type": "code",
   "execution_count": 6,
   "id": "59fcfa46",
   "metadata": {},
   "outputs": [],
   "source": [
    "data = pd.read_csv('../data/sensory_result.csv')"
   ]
  },
  {
   "cell_type": "code",
   "execution_count": 7,
   "id": "7e6284e3",
   "metadata": {},
   "outputs": [],
   "source": [
    "categories = list(data.columns)[1:-1]\n",
    "aroma_classes = ['fermented', 'cheesy', 'milky', 'fruity']"
   ]
  },
  {
   "cell_type": "code",
   "execution_count": 8,
   "id": "c36762d1",
   "metadata": {},
   "outputs": [],
   "source": [
    "fig = go.Figure()\n",
    "temp_data = data[data['Aroma type']=='fermented'].reset_index()\n",
    "L= temp_data[categories].values\n",
    "ub = max(max(x) for x in L)\n",
    "\n",
    "for i in range(len(temp_data.index)):\n",
    "    fig.add_trace(go.Scatterpolar( r= list( temp_data[categories].iloc[i].values ),\n",
    "      theta=categories,\n",
    "      fill='none',\n",
    "      name=list(temp_data['sample'])[i]   ))\n",
    "fig.update_layout( title_text= 'Fermented(n='+str(len(temp_data.index))+')',title_x = 0.5,\n",
    "                  polar=dict( radialaxis=dict(visible=True,range=[0, int(ub)+1])),showlegend=True )\n",
    "pio.write_image(fig, '../Figures/Fermented_radar.svg')"
   ]
  },
  {
   "cell_type": "code",
   "execution_count": 9,
   "id": "7586bb2e",
   "metadata": {},
   "outputs": [],
   "source": [
    "fig = go.Figure()\n",
    "temp_data = data[data['Aroma type']=='cheesy'].reset_index()\n",
    "L= temp_data[categories].values\n",
    "ub = max(max(x) for x in L)\n",
    "\n",
    "for i in range(len(temp_data.index)):\n",
    "    fig.add_trace(go.Scatterpolar( r= list( temp_data[categories].iloc[i].values ),\n",
    "      theta=categories,\n",
    "      fill='none',\n",
    "      name=list(temp_data['sample'])[i]   ))\n",
    "fig.update_layout( title_text= 'Cheesy(n='+str(len(temp_data.index))+')',title_x = 0.5,\n",
    "                  polar=dict( radialaxis=dict(visible=True,range=[0, int(ub)+1])),showlegend=True )\n",
    "pio.write_image(fig, '../Figures/Cheesy_radar.svg')"
   ]
  },
  {
   "cell_type": "code",
   "execution_count": 10,
   "id": "d84556fe",
   "metadata": {},
   "outputs": [],
   "source": [
    "fig = go.Figure()\n",
    "temp_data = data[data['Aroma type']=='milky'].reset_index()\n",
    "L= temp_data[categories].values\n",
    "ub = max(max(x) for x in L)\n",
    "\n",
    "for i in range(len(temp_data.index)):\n",
    "    fig.add_trace(go.Scatterpolar( r= list( temp_data[categories].iloc[i].values ),\n",
    "      theta=categories,\n",
    "      fill='none',\n",
    "      name=list(temp_data['sample'])[i]   ))\n",
    "fig.update_layout( title_text= 'Milky(n='+str(len(temp_data.index))+')',title_x = 0.5,\n",
    "                  polar=dict( radialaxis=dict(visible=True,range=[0, int(ub)+1])),showlegend=True )\n",
    "pio.write_image(fig, '../Figures/Milky_radar.svg')  "
   ]
  },
  {
   "cell_type": "code",
   "execution_count": 11,
   "id": "9b0eb499",
   "metadata": {},
   "outputs": [],
   "source": [
    "fig = go.Figure()\n",
    "temp_data = data[data['Aroma type']=='fruity'].reset_index()\n",
    "L= temp_data[categories].values\n",
    "ub = max(max(x) for x in L)\n",
    "\n",
    "for i in range(len(temp_data.index)):\n",
    "    fig.add_trace(go.Scatterpolar( r= list( temp_data[categories].iloc[i].values ),\n",
    "      theta=categories,\n",
    "      fill='none',\n",
    "      name=list(temp_data['sample'])[i]   ))\n",
    "fig.update_layout( title_text= 'Fruity(n='+str(len(temp_data.index))+')',title_x = 0.5,\n",
    "                  polar=dict( radialaxis=dict(visible=True,range=[0, int(ub)+1])),showlegend=True )\n",
    "pio.write_image(fig, '../Figures/Fruity_radar.svg')"
   ]
  },
  {
   "cell_type": "code",
   "execution_count": null,
   "id": "dbc9b9f6",
   "metadata": {},
   "outputs": [],
   "source": []
  }
 ],
 "metadata": {
  "kernelspec": {
   "display_name": "Python 3 (ipykernel)",
   "language": "python",
   "name": "python3"
  },
  "language_info": {
   "codemirror_mode": {
    "name": "ipython",
    "version": 3
   },
   "file_extension": ".py",
   "mimetype": "text/x-python",
   "name": "python",
   "nbconvert_exporter": "python",
   "pygments_lexer": "ipython3",
   "version": "3.8.10"
  }
 },
 "nbformat": 4,
 "nbformat_minor": 5
}
